{
 "cells": [
  {
   "cell_type": "code",
   "execution_count": 1,
   "metadata": {},
   "outputs": [
    {
     "name": "stdout",
     "output_type": "stream",
     "text": [
      "Collecting beautifulsoup4\n",
      "  Using cached beautifulsoup4-4.12.3-py3-none-any.whl.metadata (3.8 kB)\n",
      "Collecting soupsieve>1.2 (from beautifulsoup4)\n",
      "  Using cached soupsieve-2.6-py3-none-any.whl.metadata (4.6 kB)\n",
      "Using cached beautifulsoup4-4.12.3-py3-none-any.whl (147 kB)\n",
      "Using cached soupsieve-2.6-py3-none-any.whl (36 kB)\n",
      "Installing collected packages: soupsieve, beautifulsoup4\n",
      "Successfully installed beautifulsoup4-4.12.3 soupsieve-2.6\n",
      "Note: you may need to restart the kernel to use updated packages.\n"
     ]
    }
   ],
   "source": [
    "%pip install beautifulsoup4 "
   ]
  },
  {
   "cell_type": "code",
   "execution_count": 14,
   "metadata": {},
   "outputs": [],
   "source": [
    "import requests\n",
    "from bs4 import BeautifulSoup\n",
    "from tqdm import tqdm\n",
    "import pandas as pd"
   ]
  },
  {
   "cell_type": "code",
   "execution_count": 17,
   "metadata": {},
   "outputs": [
    {
     "name": "stderr",
     "output_type": "stream",
     "text": [
      "Scraping Wikipédia:   0%|          | 0/20 [00:00<?, ?it/s]"
     ]
    },
    {
     "name": "stdout",
     "output_type": "stream",
     "text": [
      "200\n",
      "https://en.wikipedia.org/wiki/1st_arrondissement_of_Paris\n"
     ]
    },
    {
     "name": "stderr",
     "output_type": "stream",
     "text": [
      "Scraping Wikipédia:   5%|▌         | 1/20 [00:00<00:11,  1.61it/s]"
     ]
    },
    {
     "name": "stdout",
     "output_type": "stream",
     "text": [
      "<!DOCTYPE html>\n",
      "<html class=\"client-nojs vector-feature-language-in-header-enabled vector-feature-language-in-main-page-header-disabled vector-feature-page-tools-pinned-disabled vector-feature-toc-pinned-clientpref-1 vector-feature-main-menu-pinned-disabled vector-feature-limited-width-clientpref-1 vector-feature-limited-width-content-enabled vector-feature-custom-font-size-clientpref-1 vector-feature-appearance-pinned-clientpref-1 vector-feature-night-mode-enabled skin-theme-clientpref-day vector-sticky-header-enabled vector-toc-available\" dir=\"ltr\" lang=\"en\">\n",
      " <head>\n",
      "  <meta charset=\"utf-8\"/>\n",
      "  <title>\n",
      "   1st arrondissement of Paris - Wikipedia\n",
      "  </title>\n",
      "  <script>\n",
      "   (function(){var className=\"client-js vector-feature-language-in-header-enabled vector-feature-language-in-main-page-header-disabled vector-feature-page-tools-pinned-disabled vector-feature-toc-pinned-clientpref-1 vector-feature-main-menu-pinned-disabled vector-feature-limited-width-clientpref-1 vector-feature-limited-w\n",
      "200\n",
      "https://en.wikipedia.org/wiki/2nd_arrondissement_of_Paris\n"
     ]
    },
    {
     "name": "stderr",
     "output_type": "stream",
     "text": [
      "Scraping Wikipédia:  10%|█         | 2/20 [00:00<00:08,  2.17it/s]"
     ]
    },
    {
     "name": "stdout",
     "output_type": "stream",
     "text": [
      "<!DOCTYPE html>\n",
      "<html class=\"client-nojs vector-feature-language-in-header-enabled vector-feature-language-in-main-page-header-disabled vector-feature-page-tools-pinned-disabled vector-feature-toc-pinned-clientpref-1 vector-feature-main-menu-pinned-disabled vector-feature-limited-width-clientpref-1 vector-feature-limited-width-content-enabled vector-feature-custom-font-size-clientpref-1 vector-feature-appearance-pinned-clientpref-1 vector-feature-night-mode-enabled skin-theme-clientpref-day vector-sticky-header-enabled vector-toc-available\" dir=\"ltr\" lang=\"en\">\n",
      " <head>\n",
      "  <meta charset=\"utf-8\"/>\n",
      "  <title>\n",
      "   2nd arrondissement of Paris - Wikipedia\n",
      "  </title>\n",
      "  <script>\n",
      "   (function(){var className=\"client-js vector-feature-language-in-header-enabled vector-feature-language-in-main-page-header-disabled vector-feature-page-tools-pinned-disabled vector-feature-toc-pinned-clientpref-1 vector-feature-main-menu-pinned-disabled vector-feature-limited-width-clientpref-1 vector-feature-limited-w\n",
      "200\n",
      "https://en.wikipedia.org/wiki/3rd_arrondissement_of_Paris\n"
     ]
    },
    {
     "name": "stderr",
     "output_type": "stream",
     "text": [
      "Scraping Wikipédia:  15%|█▌        | 3/20 [00:01<00:06,  2.55it/s]"
     ]
    },
    {
     "name": "stdout",
     "output_type": "stream",
     "text": [
      "<!DOCTYPE html>\n",
      "<html class=\"client-nojs vector-feature-language-in-header-enabled vector-feature-language-in-main-page-header-disabled vector-feature-page-tools-pinned-disabled vector-feature-toc-pinned-clientpref-1 vector-feature-main-menu-pinned-disabled vector-feature-limited-width-clientpref-1 vector-feature-limited-width-content-enabled vector-feature-custom-font-size-clientpref-1 vector-feature-appearance-pinned-clientpref-1 vector-feature-night-mode-enabled skin-theme-clientpref-day vector-sticky-header-enabled vector-toc-available\" dir=\"ltr\" lang=\"en\">\n",
      " <head>\n",
      "  <meta charset=\"utf-8\"/>\n",
      "  <title>\n",
      "   3rd arrondissement of Paris - Wikipedia\n",
      "  </title>\n",
      "  <script>\n",
      "   (function(){var className=\"client-js vector-feature-language-in-header-enabled vector-feature-language-in-main-page-header-disabled vector-feature-page-tools-pinned-disabled vector-feature-toc-pinned-clientpref-1 vector-feature-main-menu-pinned-disabled vector-feature-limited-width-clientpref-1 vector-feature-limited-w\n"
     ]
    },
    {
     "name": "stderr",
     "output_type": "stream",
     "text": [
      "Scraping Wikipédia:  20%|██        | 4/20 [00:01<00:06,  2.31it/s]"
     ]
    },
    {
     "name": "stdout",
     "output_type": "stream",
     "text": [
      "200\n",
      "https://en.wikipedia.org/wiki/4th_arrondissement_of_Paris\n",
      "<!DOCTYPE html>\n",
      "<html class=\"client-nojs vector-feature-language-in-header-enabled vector-feature-language-in-main-page-header-disabled vector-feature-page-tools-pinned-disabled vector-feature-toc-pinned-clientpref-1 vector-feature-main-menu-pinned-disabled vector-feature-limited-width-clientpref-1 vector-feature-limited-width-content-enabled vector-feature-custom-font-size-clientpref-1 vector-feature-appearance-pinned-clientpref-1 vector-feature-night-mode-enabled skin-theme-clientpref-day vector-sticky-header-enabled vector-toc-available\" dir=\"ltr\" lang=\"en\">\n",
      " <head>\n",
      "  <meta charset=\"utf-8\"/>\n",
      "  <title>\n",
      "   4th arrondissement of Paris - Wikipedia\n",
      "  </title>\n",
      "  <script>\n",
      "   (function(){var className=\"client-js vector-feature-language-in-header-enabled vector-feature-language-in-main-page-header-disabled vector-feature-page-tools-pinned-disabled vector-feature-toc-pinned-clientpref-1 vector-feature-main-menu-pinned-disabled vector-feature-limited-width-clientpref-1 vector-feature-limited-w\n",
      "200\n",
      "https://en.wikipedia.org/wiki/5th_arrondissement_of_Paris\n"
     ]
    },
    {
     "name": "stderr",
     "output_type": "stream",
     "text": [
      "Scraping Wikipédia:  25%|██▌       | 5/20 [00:02<00:07,  2.13it/s]"
     ]
    },
    {
     "name": "stdout",
     "output_type": "stream",
     "text": [
      "<!DOCTYPE html>\n",
      "<html class=\"client-nojs vector-feature-language-in-header-enabled vector-feature-language-in-main-page-header-disabled vector-feature-page-tools-pinned-disabled vector-feature-toc-pinned-clientpref-1 vector-feature-main-menu-pinned-disabled vector-feature-limited-width-clientpref-1 vector-feature-limited-width-content-enabled vector-feature-custom-font-size-clientpref-1 vector-feature-appearance-pinned-clientpref-1 vector-feature-night-mode-enabled skin-theme-clientpref-day vector-sticky-header-enabled vector-toc-available\" dir=\"ltr\" lang=\"en\">\n",
      " <head>\n",
      "  <meta charset=\"utf-8\"/>\n",
      "  <title>\n",
      "   5th arrondissement of Paris - Wikipedia\n",
      "  </title>\n",
      "  <script>\n",
      "   (function(){var className=\"client-js vector-feature-language-in-header-enabled vector-feature-language-in-main-page-header-disabled vector-feature-page-tools-pinned-disabled vector-feature-toc-pinned-clientpref-1 vector-feature-main-menu-pinned-disabled vector-feature-limited-width-clientpref-1 vector-feature-limited-w\n",
      "200\n",
      "https://en.wikipedia.org/wiki/6th_arrondissement_of_Paris\n"
     ]
    },
    {
     "name": "stderr",
     "output_type": "stream",
     "text": [
      "Scraping Wikipédia:  30%|███       | 6/20 [00:02<00:07,  1.96it/s]"
     ]
    },
    {
     "name": "stdout",
     "output_type": "stream",
     "text": [
      "<!DOCTYPE html>\n",
      "<html class=\"client-nojs vector-feature-language-in-header-enabled vector-feature-language-in-main-page-header-disabled vector-feature-page-tools-pinned-disabled vector-feature-toc-pinned-clientpref-1 vector-feature-main-menu-pinned-disabled vector-feature-limited-width-clientpref-1 vector-feature-limited-width-content-enabled vector-feature-custom-font-size-clientpref-1 vector-feature-appearance-pinned-clientpref-1 vector-feature-night-mode-enabled skin-theme-clientpref-day vector-sticky-header-enabled vector-toc-available\" dir=\"ltr\" lang=\"en\">\n",
      " <head>\n",
      "  <meta charset=\"utf-8\"/>\n",
      "  <title>\n",
      "   6th arrondissement of Paris - Wikipedia\n",
      "  </title>\n",
      "  <script>\n",
      "   (function(){var className=\"client-js vector-feature-language-in-header-enabled vector-feature-language-in-main-page-header-disabled vector-feature-page-tools-pinned-disabled vector-feature-toc-pinned-clientpref-1 vector-feature-main-menu-pinned-disabled vector-feature-limited-width-clientpref-1 vector-feature-limited-w\n",
      "200\n",
      "https://en.wikipedia.org/wiki/7th_arrondissement_of_Paris\n"
     ]
    },
    {
     "name": "stderr",
     "output_type": "stream",
     "text": [
      "Scraping Wikipédia:  35%|███▌      | 7/20 [00:03<00:06,  1.88it/s]"
     ]
    },
    {
     "name": "stdout",
     "output_type": "stream",
     "text": [
      "<!DOCTYPE html>\n",
      "<html class=\"client-nojs vector-feature-language-in-header-enabled vector-feature-language-in-main-page-header-disabled vector-feature-page-tools-pinned-disabled vector-feature-toc-pinned-clientpref-1 vector-feature-main-menu-pinned-disabled vector-feature-limited-width-clientpref-1 vector-feature-limited-width-content-enabled vector-feature-custom-font-size-clientpref-1 vector-feature-appearance-pinned-clientpref-1 vector-feature-night-mode-enabled skin-theme-clientpref-day vector-sticky-header-enabled vector-toc-available\" dir=\"ltr\" lang=\"en\">\n",
      " <head>\n",
      "  <meta charset=\"utf-8\"/>\n",
      "  <title>\n",
      "   7th arrondissement of Paris - Wikipedia\n",
      "  </title>\n",
      "  <script>\n",
      "   (function(){var className=\"client-js vector-feature-language-in-header-enabled vector-feature-language-in-main-page-header-disabled vector-feature-page-tools-pinned-disabled vector-feature-toc-pinned-clientpref-1 vector-feature-main-menu-pinned-disabled vector-feature-limited-width-clientpref-1 vector-feature-limited-w\n",
      "200\n",
      "https://en.wikipedia.org/wiki/8th_arrondissement_of_Paris\n"
     ]
    },
    {
     "name": "stderr",
     "output_type": "stream",
     "text": [
      "Scraping Wikipédia:  40%|████      | 8/20 [00:03<00:06,  1.89it/s]"
     ]
    },
    {
     "name": "stdout",
     "output_type": "stream",
     "text": [
      "<!DOCTYPE html>\n",
      "<html class=\"client-nojs vector-feature-language-in-header-enabled vector-feature-language-in-main-page-header-disabled vector-feature-page-tools-pinned-disabled vector-feature-toc-pinned-clientpref-1 vector-feature-main-menu-pinned-disabled vector-feature-limited-width-clientpref-1 vector-feature-limited-width-content-enabled vector-feature-custom-font-size-clientpref-1 vector-feature-appearance-pinned-clientpref-1 vector-feature-night-mode-enabled skin-theme-clientpref-day vector-sticky-header-enabled vector-toc-available\" dir=\"ltr\" lang=\"en\">\n",
      " <head>\n",
      "  <meta charset=\"utf-8\"/>\n",
      "  <title>\n",
      "   8th arrondissement of Paris - Wikipedia\n",
      "  </title>\n",
      "  <script>\n",
      "   (function(){var className=\"client-js vector-feature-language-in-header-enabled vector-feature-language-in-main-page-header-disabled vector-feature-page-tools-pinned-disabled vector-feature-toc-pinned-clientpref-1 vector-feature-main-menu-pinned-disabled vector-feature-limited-width-clientpref-1 vector-feature-limited-w\n"
     ]
    },
    {
     "name": "stderr",
     "output_type": "stream",
     "text": [
      "Scraping Wikipédia:  45%|████▌     | 9/20 [00:04<00:06,  1.80it/s]"
     ]
    },
    {
     "name": "stdout",
     "output_type": "stream",
     "text": [
      "404\n",
      "https://en.wikipedia.org/wiki/9rd_arrondissement_of_Paris\n",
      "200\n",
      "https://en.wikipedia.org/wiki/10th_arrondissement_of_Paris\n"
     ]
    },
    {
     "name": "stderr",
     "output_type": "stream",
     "text": [
      "Scraping Wikipédia:  50%|█████     | 10/20 [00:04<00:04,  2.00it/s]"
     ]
    },
    {
     "name": "stdout",
     "output_type": "stream",
     "text": [
      "<!DOCTYPE html>\n",
      "<html class=\"client-nojs vector-feature-language-in-header-enabled vector-feature-language-in-main-page-header-disabled vector-feature-page-tools-pinned-disabled vector-feature-toc-pinned-clientpref-1 vector-feature-main-menu-pinned-disabled vector-feature-limited-width-clientpref-1 vector-feature-limited-width-content-enabled vector-feature-custom-font-size-clientpref-1 vector-feature-appearance-pinned-clientpref-1 vector-feature-night-mode-enabled skin-theme-clientpref-day vector-sticky-header-enabled vector-toc-available\" dir=\"ltr\" lang=\"en\">\n",
      " <head>\n",
      "  <meta charset=\"utf-8\"/>\n",
      "  <title>\n",
      "   10th arrondissement of Paris - Wikipedia\n",
      "  </title>\n",
      "  <script>\n",
      "   (function(){var className=\"client-js vector-feature-language-in-header-enabled vector-feature-language-in-main-page-header-disabled vector-feature-page-tools-pinned-disabled vector-feature-toc-pinned-clientpref-1 vector-feature-main-menu-pinned-disabled vector-feature-limited-width-clientpref-1 vector-feature-limited-\n",
      "200\n",
      "https://en.wikipedia.org/wiki/11th_arrondissement_of_Paris\n"
     ]
    },
    {
     "name": "stderr",
     "output_type": "stream",
     "text": [
      "Scraping Wikipédia:  55%|█████▌    | 11/20 [00:05<00:05,  1.73it/s]"
     ]
    },
    {
     "name": "stdout",
     "output_type": "stream",
     "text": [
      "<!DOCTYPE html>\n",
      "<html class=\"client-nojs vector-feature-language-in-header-enabled vector-feature-language-in-main-page-header-disabled vector-feature-page-tools-pinned-disabled vector-feature-toc-pinned-clientpref-1 vector-feature-main-menu-pinned-disabled vector-feature-limited-width-clientpref-1 vector-feature-limited-width-content-enabled vector-feature-custom-font-size-clientpref-1 vector-feature-appearance-pinned-clientpref-1 vector-feature-night-mode-enabled skin-theme-clientpref-day vector-sticky-header-enabled vector-toc-available\" dir=\"ltr\" lang=\"en\">\n",
      " <head>\n",
      "  <meta charset=\"utf-8\"/>\n",
      "  <title>\n",
      "   11th arrondissement of Paris - Wikipedia\n",
      "  </title>\n",
      "  <script>\n",
      "   (function(){var className=\"client-js vector-feature-language-in-header-enabled vector-feature-language-in-main-page-header-disabled vector-feature-page-tools-pinned-disabled vector-feature-toc-pinned-clientpref-1 vector-feature-main-menu-pinned-disabled vector-feature-limited-width-clientpref-1 vector-feature-limited-\n",
      "200\n",
      "https://en.wikipedia.org/wiki/12th_arrondissement_of_Paris\n"
     ]
    },
    {
     "name": "stderr",
     "output_type": "stream",
     "text": [
      "Scraping Wikipédia:  60%|██████    | 12/20 [00:06<00:05,  1.41it/s]"
     ]
    },
    {
     "name": "stdout",
     "output_type": "stream",
     "text": [
      "<!DOCTYPE html>\n",
      "<html class=\"client-nojs vector-feature-language-in-header-enabled vector-feature-language-in-main-page-header-disabled vector-feature-page-tools-pinned-disabled vector-feature-toc-pinned-clientpref-1 vector-feature-main-menu-pinned-disabled vector-feature-limited-width-clientpref-1 vector-feature-limited-width-content-enabled vector-feature-custom-font-size-clientpref-1 vector-feature-appearance-pinned-clientpref-1 vector-feature-night-mode-enabled skin-theme-clientpref-day vector-sticky-header-enabled vector-toc-available\" dir=\"ltr\" lang=\"en\">\n",
      " <head>\n",
      "  <meta charset=\"utf-8\"/>\n",
      "  <title>\n",
      "   12th arrondissement of Paris - Wikipedia\n",
      "  </title>\n",
      "  <script>\n",
      "   (function(){var className=\"client-js vector-feature-language-in-header-enabled vector-feature-language-in-main-page-header-disabled vector-feature-page-tools-pinned-disabled vector-feature-toc-pinned-clientpref-1 vector-feature-main-menu-pinned-disabled vector-feature-limited-width-clientpref-1 vector-feature-limited-\n"
     ]
    },
    {
     "name": "stderr",
     "output_type": "stream",
     "text": [
      "Scraping Wikipédia:  65%|██████▌   | 13/20 [00:07<00:05,  1.22it/s]"
     ]
    },
    {
     "name": "stdout",
     "output_type": "stream",
     "text": [
      "200\n",
      "https://en.wikipedia.org/wiki/13th_arrondissement_of_Paris\n",
      "<!DOCTYPE html>\n",
      "<html class=\"client-nojs vector-feature-language-in-header-enabled vector-feature-language-in-main-page-header-disabled vector-feature-page-tools-pinned-disabled vector-feature-toc-pinned-clientpref-1 vector-feature-main-menu-pinned-disabled vector-feature-limited-width-clientpref-1 vector-feature-limited-width-content-enabled vector-feature-custom-font-size-clientpref-1 vector-feature-appearance-pinned-clientpref-1 vector-feature-night-mode-enabled skin-theme-clientpref-day vector-sticky-header-enabled vector-toc-available\" dir=\"ltr\" lang=\"en\">\n",
      " <head>\n",
      "  <meta charset=\"utf-8\"/>\n",
      "  <title>\n",
      "   13th arrondissement of Paris - Wikipedia\n",
      "  </title>\n",
      "  <script>\n",
      "   (function(){var className=\"client-js vector-feature-language-in-header-enabled vector-feature-language-in-main-page-header-disabled vector-feature-page-tools-pinned-disabled vector-feature-toc-pinned-clientpref-1 vector-feature-main-menu-pinned-disabled vector-feature-limited-width-clientpref-1 vector-feature-limited-\n",
      "200\n",
      "https://en.wikipedia.org/wiki/14th_arrondissement_of_Paris\n"
     ]
    },
    {
     "name": "stderr",
     "output_type": "stream",
     "text": [
      "Scraping Wikipédia:  70%|███████   | 14/20 [00:09<00:06,  1.01s/it]"
     ]
    },
    {
     "name": "stdout",
     "output_type": "stream",
     "text": [
      "<!DOCTYPE html>\n",
      "<html class=\"client-nojs vector-feature-language-in-header-enabled vector-feature-language-in-main-page-header-disabled vector-feature-page-tools-pinned-disabled vector-feature-toc-pinned-clientpref-1 vector-feature-main-menu-pinned-disabled vector-feature-limited-width-clientpref-1 vector-feature-limited-width-content-enabled vector-feature-custom-font-size-clientpref-1 vector-feature-appearance-pinned-clientpref-1 vector-feature-night-mode-enabled skin-theme-clientpref-day vector-sticky-header-enabled vector-toc-available\" dir=\"ltr\" lang=\"en\">\n",
      " <head>\n",
      "  <meta charset=\"utf-8\"/>\n",
      "  <title>\n",
      "   14th arrondissement of Paris - Wikipedia\n",
      "  </title>\n",
      "  <script>\n",
      "   (function(){var className=\"client-js vector-feature-language-in-header-enabled vector-feature-language-in-main-page-header-disabled vector-feature-page-tools-pinned-disabled vector-feature-toc-pinned-clientpref-1 vector-feature-main-menu-pinned-disabled vector-feature-limited-width-clientpref-1 vector-feature-limited-\n",
      "200\n",
      "https://en.wikipedia.org/wiki/15th_arrondissement_of_Paris\n"
     ]
    },
    {
     "name": "stderr",
     "output_type": "stream",
     "text": [
      "Scraping Wikipédia:  75%|███████▌  | 15/20 [00:10<00:05,  1.08s/it]"
     ]
    },
    {
     "name": "stdout",
     "output_type": "stream",
     "text": [
      "<!DOCTYPE html>\n",
      "<html class=\"client-nojs vector-feature-language-in-header-enabled vector-feature-language-in-main-page-header-disabled vector-feature-page-tools-pinned-disabled vector-feature-toc-pinned-clientpref-1 vector-feature-main-menu-pinned-disabled vector-feature-limited-width-clientpref-1 vector-feature-limited-width-content-enabled vector-feature-custom-font-size-clientpref-1 vector-feature-appearance-pinned-clientpref-1 vector-feature-night-mode-enabled skin-theme-clientpref-day vector-sticky-header-enabled vector-toc-available\" dir=\"ltr\" lang=\"en\">\n",
      " <head>\n",
      "  <meta charset=\"utf-8\"/>\n",
      "  <title>\n",
      "   15th arrondissement of Paris - Wikipedia\n",
      "  </title>\n",
      "  <script>\n",
      "   (function(){var className=\"client-js vector-feature-language-in-header-enabled vector-feature-language-in-main-page-header-disabled vector-feature-page-tools-pinned-disabled vector-feature-toc-pinned-clientpref-1 vector-feature-main-menu-pinned-disabled vector-feature-limited-width-clientpref-1 vector-feature-limited-\n",
      "200\n",
      "https://en.wikipedia.org/wiki/16th_arrondissement_of_Paris\n"
     ]
    },
    {
     "name": "stderr",
     "output_type": "stream",
     "text": [
      "Scraping Wikipédia:  80%|████████  | 16/20 [00:11<00:04,  1.11s/it]"
     ]
    },
    {
     "name": "stdout",
     "output_type": "stream",
     "text": [
      "<!DOCTYPE html>\n",
      "<html class=\"client-nojs vector-feature-language-in-header-enabled vector-feature-language-in-main-page-header-disabled vector-feature-page-tools-pinned-disabled vector-feature-toc-pinned-clientpref-1 vector-feature-main-menu-pinned-disabled vector-feature-limited-width-clientpref-1 vector-feature-limited-width-content-enabled vector-feature-custom-font-size-clientpref-1 vector-feature-appearance-pinned-clientpref-1 vector-feature-night-mode-enabled skin-theme-clientpref-day vector-sticky-header-enabled vector-toc-available\" dir=\"ltr\" lang=\"en\">\n",
      " <head>\n",
      "  <meta charset=\"utf-8\"/>\n",
      "  <title>\n",
      "   16th arrondissement of Paris - Wikipedia\n",
      "  </title>\n",
      "  <script>\n",
      "   (function(){var className=\"client-js vector-feature-language-in-header-enabled vector-feature-language-in-main-page-header-disabled vector-feature-page-tools-pinned-disabled vector-feature-toc-pinned-clientpref-1 vector-feature-main-menu-pinned-disabled vector-feature-limited-width-clientpref-1 vector-feature-limited-\n",
      "200\n",
      "https://en.wikipedia.org/wiki/17th_arrondissement_of_Paris\n"
     ]
    },
    {
     "name": "stderr",
     "output_type": "stream",
     "text": [
      "Scraping Wikipédia:  85%|████████▌ | 17/20 [00:12<00:03,  1.02s/it]"
     ]
    },
    {
     "name": "stdout",
     "output_type": "stream",
     "text": [
      "<!DOCTYPE html>\n",
      "<html class=\"client-nojs vector-feature-language-in-header-enabled vector-feature-language-in-main-page-header-disabled vector-feature-page-tools-pinned-disabled vector-feature-toc-pinned-clientpref-1 vector-feature-main-menu-pinned-disabled vector-feature-limited-width-clientpref-1 vector-feature-limited-width-content-enabled vector-feature-custom-font-size-clientpref-1 vector-feature-appearance-pinned-clientpref-1 vector-feature-night-mode-enabled skin-theme-clientpref-day vector-sticky-header-enabled vector-toc-available\" dir=\"ltr\" lang=\"en\">\n",
      " <head>\n",
      "  <meta charset=\"utf-8\"/>\n",
      "  <title>\n",
      "   17th arrondissement of Paris - Wikipedia\n",
      "  </title>\n",
      "  <script>\n",
      "   (function(){var className=\"client-js vector-feature-language-in-header-enabled vector-feature-language-in-main-page-header-disabled vector-feature-page-tools-pinned-disabled vector-feature-toc-pinned-clientpref-1 vector-feature-main-menu-pinned-disabled vector-feature-limited-width-clientpref-1 vector-feature-limited-\n"
     ]
    },
    {
     "name": "stderr",
     "output_type": "stream",
     "text": [
      "Scraping Wikipédia:  90%|█████████ | 18/20 [00:13<00:01,  1.10it/s]"
     ]
    },
    {
     "name": "stdout",
     "output_type": "stream",
     "text": [
      "200\n",
      "https://en.wikipedia.org/wiki/18th_arrondissement_of_Paris\n",
      "<!DOCTYPE html>\n",
      "<html class=\"client-nojs vector-feature-language-in-header-enabled vector-feature-language-in-main-page-header-disabled vector-feature-page-tools-pinned-disabled vector-feature-toc-pinned-clientpref-1 vector-feature-main-menu-pinned-disabled vector-feature-limited-width-clientpref-1 vector-feature-limited-width-content-enabled vector-feature-custom-font-size-clientpref-1 vector-feature-appearance-pinned-clientpref-1 vector-feature-night-mode-enabled skin-theme-clientpref-day vector-sticky-header-enabled vector-toc-available\" dir=\"ltr\" lang=\"en\">\n",
      " <head>\n",
      "  <meta charset=\"utf-8\"/>\n",
      "  <title>\n",
      "   18th arrondissement of Paris - Wikipedia\n",
      "  </title>\n",
      "  <script>\n",
      "   (function(){var className=\"client-js vector-feature-language-in-header-enabled vector-feature-language-in-main-page-header-disabled vector-feature-page-tools-pinned-disabled vector-feature-toc-pinned-clientpref-1 vector-feature-main-menu-pinned-disabled vector-feature-limited-width-clientpref-1 vector-feature-limited-\n"
     ]
    },
    {
     "name": "stderr",
     "output_type": "stream",
     "text": [
      "Scraping Wikipédia:  95%|█████████▌| 19/20 [00:13<00:00,  1.13it/s]"
     ]
    },
    {
     "name": "stdout",
     "output_type": "stream",
     "text": [
      "200\n",
      "https://en.wikipedia.org/wiki/19th_arrondissement_of_Paris\n",
      "<!DOCTYPE html>\n",
      "<html class=\"client-nojs vector-feature-language-in-header-enabled vector-feature-language-in-main-page-header-disabled vector-feature-page-tools-pinned-disabled vector-feature-toc-pinned-clientpref-1 vector-feature-main-menu-pinned-disabled vector-feature-limited-width-clientpref-1 vector-feature-limited-width-content-enabled vector-feature-custom-font-size-clientpref-1 vector-feature-appearance-pinned-clientpref-1 vector-feature-night-mode-enabled skin-theme-clientpref-day vector-sticky-header-enabled vector-toc-available\" dir=\"ltr\" lang=\"en\">\n",
      " <head>\n",
      "  <meta charset=\"utf-8\"/>\n",
      "  <title>\n",
      "   19th arrondissement of Paris - Wikipedia\n",
      "  </title>\n",
      "  <script>\n",
      "   (function(){var className=\"client-js vector-feature-language-in-header-enabled vector-feature-language-in-main-page-header-disabled vector-feature-page-tools-pinned-disabled vector-feature-toc-pinned-clientpref-1 vector-feature-main-menu-pinned-disabled vector-feature-limited-width-clientpref-1 vector-feature-limited-\n",
      "200\n",
      "https://en.wikipedia.org/wiki/20th_arrondissement_of_Paris\n",
      "<!DOCTYPE html>\n",
      "<html class=\"client-nojs vector-feature-language-in-header-enabled vector-feature-language-in-main-page-header-disabled vector-feature-page-tools-pinned-disabled vector-feature-toc-pinned-clientpref-1 vector-feature-main-menu-pinned-disabled vector-feature-limited-width-clientpref-1 vector-feature-limited-width-content-enabled vector-feature-custom-font-size-clientpref-1 vector-feature-appearance-pinned-clientpref-1 vector-feature-night-mode-enabled skin-theme-clientpref-day vector-sticky-header-enabled vector-toc-available\" dir=\"ltr\" lang=\"en\">\n",
      " <head>\n",
      "  <meta charset=\"utf-8\"/>\n",
      "  <title>\n",
      "   20th arrondissement of Paris - Wikipedia\n",
      "  </title>\n",
      "  <script>\n",
      "   (function(){var className=\"client-js vector-feature-language-in-header-enabled vector-feature-language-in-main-page-header-disabled vector-feature-page-tools-pinned-disabled vector-feature-toc-pinned-clientpref-1 vector-feature-main-menu-pinned-disabled vector-feature-limited-width-clientpref-1 vector-feature-limited-\n"
     ]
    },
    {
     "name": "stderr",
     "output_type": "stream",
     "text": [
      "Scraping Wikipédia: 100%|██████████| 20/20 [00:14<00:00,  1.35it/s]"
     ]
    },
    {
     "name": "stdout",
     "output_type": "stream",
     "text": [
      "  Arrondissement                                              Texte\n",
      "0            1st  The1st arrondissement of Paris(Ierarrondisseme...\n",
      "1            2nd  The2nd arrondissement of Paris(IIearrondisseme...\n",
      "2            3rd  The3rd arrondissement of Paris(IIIearrondissem...\n",
      "3            4th  The4th arrondissement of Paris(IVearrondisseme...\n",
      "4            5th  The5th arrondissement of Paris(Vearrondissemen...\n",
      "Les résultats ont été sauvegardés dans 'arrondissements_paris.csv'.\n"
     ]
    },
    {
     "name": "stderr",
     "output_type": "stream",
     "text": [
      "\n"
     ]
    }
   ],
   "source": [
    "def scrape_wikipedia_page(title, lang=\"en\"):\n",
    "    \"\"\"\n",
    "    Scrape le texte principal d'une page Wikipédia.\n",
    "    \n",
    "    :param title: Titre de la page Wikipédia (ex: \"Paris\").\n",
    "    :param lang: Langue de Wikipédia (par défaut \"fr\").\n",
    "    :return: Le texte principal de la page ou un message d'erreur.\n",
    "    \"\"\"\n",
    "    url = f\"https://{lang}.wikipedia.org/wiki/{title.replace(' ', '_')}_arrondissement_of_Paris\"\n",
    "    response = requests.get(url)\n",
    "    print(response.status_code)  # Vérifie le code de réponse (200 attendu)\n",
    "    print(response.url)          # Vérifie si l'URL finale est correcte\n",
    "    #print(soup.prettify()[:1000])  # Affiche un aperçu du HTML récupéré\n",
    "\n",
    "\n",
    "    if response.status_code == 200:\n",
    "        soup = BeautifulSoup(response.content, \"html.parser\")\n",
    "        #content_div = soup.find(\"div\", {\"class\": \"mw-parser-output\"})  # Contient le texte principal\n",
    "        content_div = soup.find(\"div\", {\"id\": \"bodyContent\"})  # Option alternative\n",
    "\n",
    "        \n",
    "        if content_div:\n",
    "            paragraphs = content_div.find_all(\"p\")  # Récupère les paragraphes\n",
    "            text = \"\\n\".join([para.get_text(strip=True) for para in paragraphs if para.text.strip()])\n",
    "            print(soup.prettify()[:1000])  # Affiche un aperçu du HTML récupéré\n",
    "            return text if text else \"Pas de texte disponible sur cette page.\"\n",
    "        else:\n",
    "            return \"La structure de la page n'a pas pu être trouvée.\"\n",
    "    else:\n",
    "        return f\"Erreur {response.status_code}: Impossible d'accéder à la page '{title}'.\"\n",
    "\n",
    "\n",
    "# Scraper les 20 arrondissements et les stocker dans un tableau\n",
    "def scrape_all_arrondissements():\n",
    "    \"\"\"\n",
    "    Scrape les pages Wikipédia des 20 arrondissements de Paris et retourne les résultats dans un tableau.\n",
    "    \n",
    "    :return: Un DataFrame contenant le numéro de l'arrondissement et le texte récupéré.\n",
    "    \"\"\"\n",
    "    arrondissements = ['1st','2nd','3rd','4th','5th','6th','7th','8th','9rd','10th','11th','12th','13th','14th','15th','16th','17th','18th','19th','20th'] \n",
    "    data = []\n",
    "    \n",
    "    for arrondissement in tqdm(arrondissements, desc=\"Scraping Wikipédia\"):\n",
    "        text = scrape_wikipedia_page(arrondissement)\n",
    "        data.append({\"Arrondissement\": arrondissement, \"Texte\": text})\n",
    "    \n",
    "    # Convertir les données en DataFrame\n",
    "    df = pd.DataFrame(data)\n",
    "    return df\n",
    "\n",
    "\n",
    "# Scraper les 20 arrondissements et afficher le tableau\n",
    "df = scrape_all_arrondissements()\n",
    "print(df.head())  # Affiche les 5 premières lignes\n",
    "    \n",
    "# Sauvegarder les résultats dans un fichier CSV\n",
    "df.to_csv(\"arrondissements_paris.csv\", index=False, encoding=\"utf-8\")\n",
    "print(\"Les résultats ont été sauvegardés dans 'arrondissements_paris.csv'.\")\n"
   ]
  },
  {
   "cell_type": "code",
   "execution_count": null,
   "metadata": {},
   "outputs": [],
   "source": [
    "def scrape_wikivoyage_section(arrondissement, section, lang=\"en\"):\n",
    "    \"\"\"\n",
    "    Scrape a specific section (e.g., 'Eat', 'Sleep') from a Wikivoyage page, including subsections.\n",
    "    \n",
    "    :param arrondissement: The arrondissement number as a string (e.g., \"1st\", \"2nd\").\n",
    "    :param section: The section to scrape (e.g., \"Eat\", \"Sleep\").\n",
    "    :param lang: Language version of Wikivoyage (default is \"en\").\n",
    "    :return: The text content of the section, including all subsections.\n",
    "    \"\"\"\n",
    "    url = f\"https://{lang}.wikivoyage.org/wiki/Paris/{arrondissement}_arrondissement\"\n",
    "    response = requests.get(url)\n",
    "    \n",
    "    if response.status_code == 200:\n",
    "        soup = BeautifulSoup(response.content, \"html.parser\")\n",
    "        \n",
    "        # Locate the section by id\n",
    "        section_header = soup.find(\"h2\", {\"id\": section})\n",
    "        if section_header:\n",
    "            # Collect all subsequent <section> tags related to this section\n",
    "            content_text = []\n",
    "            parent_section = section_header.find_parent(\"section\")\n",
    "            if parent_section:\n",
    "                subsections = parent_section.find_all(\"section\")  # Subsections within the main section\n",
    "                for subsection in subsections:\n",
    "                    # Extract text from <li> elements\n",
    "                    list_items = subsection.find_all(\"li\")\n",
    "                    for item in list_items:\n",
    "                        content_text.append(item.get_text(strip=True))\n",
    "            \n",
    "            return \"\\n\".join(content_text) if content_text else f\"No content found for section '{section}'.\"\n",
    "        else:\n",
    "            return f\"Section '{section}' not found.\"\n",
    "    else:\n",
    "        return f\"Error {response.status_code}: Unable to access the page for '{arrondissement}_arrondissement'.\"\n"
   ]
  },
  {
   "cell_type": "code",
   "execution_count": 22,
   "metadata": {},
   "outputs": [
    {
     "name": "stderr",
     "output_type": "stream",
     "text": [
      "Scraping Wikivoyage: 100%|██████████| 20/20 [00:06<00:00,  3.24it/s]"
     ]
    },
    {
     "name": "stdout",
     "output_type": "stream",
     "text": [
      "The data has been saved to 'wikivoyage_paris_eat_sleep.json'.\n"
     ]
    },
    {
     "name": "stderr",
     "output_type": "stream",
     "text": [
      "\n"
     ]
    }
   ],
   "source": [
    "import requests\n",
    "from bs4 import BeautifulSoup\n",
    "from tqdm import tqdm\n",
    "import pandas as pd\n",
    "import json\n",
    "\n",
    "def scrape_wikivoyage_section(arrondissement, section, lang=\"en\"):\n",
    "    \"\"\"\n",
    "    Scrape a specific section (e.g., 'Eat', 'Sleep') from a Wikivoyage page, including subsections or lists.\n",
    "    \n",
    "    :param arrondissement: The arrondissement number as a string (e.g., \"1st\", \"2nd\").\n",
    "    :param section: The section to scrape (e.g., \"Eat\", \"Sleep\").\n",
    "    :param lang: Language version of Wikivoyage (default is \"en\").\n",
    "    :return: The text content of the section, including all subsections or direct lists.\n",
    "    \"\"\"\n",
    "    url = f\"https://{lang}.wikivoyage.org/wiki/Paris/{arrondissement}_arrondissement\"\n",
    "    response = requests.get(url)\n",
    "    response.encoding = \"utf-8\"  # Ensure proper encoding\n",
    "    \n",
    "    if response.status_code == 200:\n",
    "        soup = BeautifulSoup(response.content, \"html.parser\")\n",
    "        \n",
    "        # Locate the section by id\n",
    "        section_header = soup.find(\"h2\", {\"id\": section})\n",
    "        if section_header:\n",
    "            # Collect all content either from subsections or direct list\n",
    "            content_text = []\n",
    "            parent_section = section_header.find_parent(\"section\")\n",
    "            if parent_section:\n",
    "                # Case 1: Check for subsections within the parent <section>\n",
    "                subsections = parent_section.find_all(\"section\")  # Subsections within the main section\n",
    "                for subsection in subsections:\n",
    "                    list_items = subsection.find_all(\"li\")\n",
    "                    for item in list_items:\n",
    "                        content_text.append(item.get_text(strip=True).replace(\"\\n\", \" \").replace(\"\\r\", \" \"))\n",
    "\n",
    "                # Case 2: Check for a direct <ul> within the parent <section>\n",
    "                direct_list = parent_section.find(\"ul\")\n",
    "                if direct_list:\n",
    "                    list_items = direct_list.find_all(\"li\")\n",
    "                    for item in list_items:\n",
    "                        content_text.append(item.get_text(strip=True).replace(\"\\n\", \" \").replace(\"\\r\", \" \"))\n",
    "            \n",
    "            return \"\\n\".join(content_text) if content_text else f\"No content found for section '{section}'.\"\n",
    "        else:\n",
    "            return f\"Section '{section}' not found.\"\n",
    "    else:\n",
    "        return f\"Error {response.status_code}: Unable to access the page for '{arrondissement}_arrondissement'.\"\n",
    "\n",
    "\n",
    "# Scrape all arrondissements for \"Eat\" and \"Sleep\" sections\n",
    "def scrape_all_arrondissements_wikivoyage():\n",
    "    \"\"\"\n",
    "    Scrape the \"Eat\" and \"Sleep\" sections for all 20 arrondissements in Paris from Wikivoyage.\n",
    "    \n",
    "    :return: A DataFrame containing the arrondissement, section, and text content.\n",
    "    \"\"\"\n",
    "    arrondissements = [f\"{i}th\" if i > 3 else f\"{i}st\" if i == 1 else f\"{i}nd\" if i == 2 else f\"{i}rd\" for i in range(1, 21)]\n",
    "    sections = [\"Eat\", \"Sleep\"]  # Sections to scrape\n",
    "    data = []\n",
    "    \n",
    "    for arrondissement in tqdm(arrondissements, desc=\"Scraping Wikivoyage\"):\n",
    "        for section in sections:\n",
    "            text = scrape_wikivoyage_section(arrondissement, section)\n",
    "            data.append({\"Arrondissement\": arrondissement, \"Section\": section, \"Content\": text})\n",
    "    \n",
    "    # Convert the data to a DataFrame\n",
    "    df = pd.DataFrame(data)\n",
    "    return df\n",
    "\n",
    "\n",
    "def scrape_all_arrondissements_wikivoyage_json():\n",
    "    \"\"\"\n",
    "    Scrape the \"Eat\" and \"Sleep\" sections for all 20 arrondissements in Paris from Wikivoyage\n",
    "    and save the data as a JSON file.\n",
    "    \"\"\"\n",
    "    arrondissements = [f\"{i}th\" if i > 3 else f\"{i}st\" if i == 1 else f\"{i}nd\" if i == 2 else f\"{i}rd\" for i in range(1, 21)]\n",
    "    sections = [\"Eat\", \"Sleep\"]  # Sections to scrape\n",
    "    data = {}\n",
    "\n",
    "    for arrondissement in tqdm(arrondissements, desc=\"Scraping Wikivoyage\"):\n",
    "        data[arrondissement] = {}\n",
    "        for section in sections:\n",
    "            text = scrape_wikivoyage_section(arrondissement, section)\n",
    "            data[arrondissement][section] = text\n",
    "\n",
    "    # Save the data to a JSON file\n",
    "    with open(\"wikivoyage_paris_eat_sleep.json\", \"w\", encoding=\"utf-8\") as json_file:\n",
    "        json.dump(data, json_file, ensure_ascii=False, indent=4)\n",
    "\n",
    "    print(\"The data has been saved to 'wikivoyage_paris_eat_sleep.json'.\")\n",
    "\n",
    "\n",
    "#Scrape the data and display/save results\n",
    "scrape_all_arrondissements_wikivoyage_json()\n"
   ]
  }
 ],
 "metadata": {
  "kernelspec": {
   "display_name": ".venv",
   "language": "python",
   "name": "python3"
  },
  "language_info": {
   "codemirror_mode": {
    "name": "ipython",
    "version": 3
   },
   "file_extension": ".py",
   "mimetype": "text/x-python",
   "name": "python",
   "nbconvert_exporter": "python",
   "pygments_lexer": "ipython3",
   "version": "3.10.0"
  }
 },
 "nbformat": 4,
 "nbformat_minor": 2
}
